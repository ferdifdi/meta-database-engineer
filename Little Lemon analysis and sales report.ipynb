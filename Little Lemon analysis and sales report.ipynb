{
 "cells": [
  {
   "cell_type": "code",
   "execution_count": 6,
   "id": "a992e832",
   "metadata": {},
   "outputs": [],
   "source": [
    "# Import MySQL Connector/Python \n",
    "import mysql.connector as connector\n",
    "\n",
    "connection=connector.connect(user=\"root\",password=\"excellent123\")"
   ]
  },
  {
   "cell_type": "code",
   "execution_count": 7,
   "id": "ec7e94ed",
   "metadata": {},
   "outputs": [],
   "source": [
    "cursor = connection.cursor()"
   ]
  },
  {
   "cell_type": "code",
   "execution_count": 8,
   "id": "01d4b04d",
   "metadata": {},
   "outputs": [],
   "source": [
    "cursor.execute(\"CREATE DATABASE IF NOT EXISTS little_lemon_db\") "
   ]
  },
  {
   "cell_type": "code",
   "execution_count": 9,
   "id": "4d48f466",
   "metadata": {},
   "outputs": [],
   "source": [
    "cursor.execute(\"USE little_lemon_db\")"
   ]
  },
  {
   "cell_type": "code",
   "execution_count": 17,
   "id": "47c182a2",
   "metadata": {},
   "outputs": [],
   "source": [
    "#MenuItems table\n",
    "create_menuitem_table = \"\"\"CREATE TABLE IF NOT EXISTS MenuItems (\n",
    "ItemID INT AUTO_INCREMENT,\n",
    "Name VARCHAR(200),\n",
    "Type VARCHAR(100),\n",
    "Price INT,\n",
    "PRIMARY KEY (ItemID)\n",
    ");\"\"\"\n",
    "\n",
    "create_menu_table = \"\"\"CREATE TABLE IF NOT EXISTS Menus (\n",
    "MenuID INT,\n",
    "ItemID INT,\n",
    "Cuisine VARCHAR(100),\n",
    "PRIMARY KEY (MenuID,ItemID)\n",
    ");\"\"\"\n",
    "\n",
    "create_booking_table = \"\"\"CREATE TABLE IF NOT EXISTS Bookings (\n",
    "BookingID INT AUTO_INCREMENT,\n",
    "TableNo INT,\n",
    "GuestFirstName VARCHAR(100) NOT NULL,\n",
    "GuestLastName VARCHAR(100) NOT NULL,\n",
    "BookingSlot TIME NOT NULL,\n",
    "EmployeeID INT,\n",
    "PRIMARY KEY (BookingID)\n",
    ");\"\"\"\n",
    "\n",
    "create_orders_table = \"\"\"CREATE TABLE IF NOT EXISTS Orders (\n",
    "OrderID INT,\n",
    "TableNo INT,\n",
    "MenuID INT,\n",
    "BookingID INT,\n",
    "BillAmount INT,\n",
    "Quantity INT,\n",
    "PRIMARY KEY (OrderID,TableNo)\n",
    ");\"\"\"\n",
    "\n",
    "create_employees_table = \"\"\"CREATE TABLE IF NOT EXISTS Employees (\n",
    "EmployeeID INT AUTO_INCREMENT PRIMARY KEY,\n",
    "Name VARCHAR(255),\n",
    "Role VARCHAR(255),\n",
    "Address VARCHAR(255),\n",
    "Contact_Number INT,\n",
    "Email VARCHAR(255),\n",
    "Annual_Salary VARCHAR(255)\n",
    ");\"\"\""
   ]
  },
  {
   "cell_type": "code",
   "execution_count": 18,
   "id": "526c1d66",
   "metadata": {},
   "outputs": [],
   "source": [
    "# Create MenuItems table\n",
    "cursor.execute(create_menuitem_table)\n",
    "\n",
    "# Create Menu table\n",
    "cursor.execute(create_menu_table)\n",
    "\n",
    "# Create Bookings table\n",
    "cursor.execute(create_booking_table)\n",
    "\n",
    "# Create Orders table\n",
    "cursor.execute(create_orders_table)\n",
    "\n",
    "# Create Employees table\n",
    "cursor.execute(create_employees_table)"
   ]
  },
  {
   "cell_type": "code",
   "execution_count": 22,
   "id": "d84971c7",
   "metadata": {},
   "outputs": [],
   "source": [
    "#*******************************************************#\n",
    "# Insert query to populate \"MenuItems\" table:\n",
    "#*******************************************************#\n",
    "insert_menuitems=\"\"\"\n",
    "INSERT INTO MenuItems (ItemID, Name, Type, Price)\n",
    "VALUES\n",
    "(1, 'Olives','Starters',5),\n",
    "(2, 'Flatbread','Starters', 5),\n",
    "(3, 'Minestrone', 'Starters', 8),\n",
    "(4, 'Tomato bread','Starters', 8),\n",
    "(5, 'Falafel', 'Starters', 7),\n",
    "(6, 'Hummus', 'Starters', 5),\n",
    "(7, 'Greek salad', 'Main Courses', 15),\n",
    "(8, 'Bean soup', 'Main Courses', 12),\n",
    "(9, 'Pizza', 'Main Courses', 15),\n",
    "(10, 'Greek yoghurt','Desserts', 7),\n",
    "(11, 'Ice cream', 'Desserts', 6),\n",
    "(12, 'Cheesecake', 'Desserts', 4),\n",
    "(13, 'Athens White wine', 'Drinks', 25),\n",
    "(14, 'Corfu Red Wine', 'Drinks', 30),\n",
    "(15, 'Turkish Coffee', 'Drinks', 10),\n",
    "(16, 'Turkish Coffee', 'Drinks', 10),\n",
    "(17, 'Kabasa', 'Main Courses', 17);\"\"\"\n",
    "\n",
    "#*******************************************************#\n",
    "# Insert query to populate \"Menu\" table:\n",
    "#*******************************************************#\n",
    "insert_menu=\"\"\"\n",
    "INSERT INTO Menus (MenuID,ItemID,Cuisine)\n",
    "VALUES\n",
    "(1, 1, 'Greek'),\n",
    "(1, 7, 'Greek'),\n",
    "(1, 10, 'Greek'),\n",
    "(1, 13, 'Greek'),\n",
    "(2, 3, 'Italian'),\n",
    "(2, 9, 'Italian'),\n",
    "(2, 12, 'Italian'),\n",
    "(2, 15, 'Italian'),\n",
    "(3, 5, 'Turkish'),\n",
    "(3, 17, 'Turkish'),\n",
    "(3, 11, 'Turkish'),\n",
    "(3, 16, 'Turkish');\"\"\"\n",
    "\n",
    "#*******************************************************#\n",
    "# Insert query to populate \"Bookings\" table:\n",
    "#*******************************************************#\n",
    "insert_bookings=\"\"\"\n",
    "INSERT INTO Bookings (BookingID, TableNo, GuestFirstName, \n",
    "GuestLastName, BookingSlot, EmployeeID)\n",
    "VALUES\n",
    "(1, 12, 'Anna','Iversen','19:00:00',1),\n",
    "(2, 12, 'Joakim', 'Iversen', '19:00:00', 1),\n",
    "(3, 19, 'Vanessa', 'McCarthy', '15:00:00', 3),\n",
    "(4, 15, 'Marcos', 'Romero', '17:30:00', 4),\n",
    "(5, 5, 'Hiroki', 'Yamane', '18:30:00', 2),\n",
    "(6, 8, 'Diana', 'Pinto', '20:00:00', 5);\"\"\"\n",
    "\n",
    "#*******************************************************#\n",
    "# Insert query to populate \"Orders\" table:\n",
    "#*******************************************************#\n",
    "insert_orders=\"\"\"\n",
    "INSERT INTO Orders (OrderID, TableNo, MenuID, BookingID, Quantity, BillAmount)\n",
    "VALUES\n",
    "(1, 12, 1, 1, 2, 86),\n",
    "(2, 19, 2, 2, 1, 37),\n",
    "(3, 15, 2, 3, 1, 37),\n",
    "(4, 5, 3, 4, 1, 40),\n",
    "(5, 8, 1, 5, 1, 43);\"\"\"\n",
    "\n",
    "#*******************************************************#\n",
    "# Insert query to populate \"Employees\" table:\n",
    "#*******************************************************#\n",
    "insert_employees = \"\"\"\n",
    "INSERT INTO employees (EmployeeID, Name, Role, Address, Contact_Number, Email, Annual_Salary) VALUES\n",
    "(01,'Mario Gollini','Manager','724, Parsley Lane, Old Town, Chicago, IL',351258074,'Mario.g@littlelemon.com','$70,000'),\n",
    "(02,'Adrian Gollini','Assistant Manager','334, Dill Square, Lincoln Park, Chicago, IL',351474048,'Adrian.g@littlelemon.com','$65,000'),\n",
    "(03,'Giorgos Dioudis','Head Chef','879 Sage Street, West Loop, Chicago, IL',351970582,'Giorgos.d@littlelemon.com','$50,000'),\n",
    "(04,'Fatma Kaya','Assistant Chef','132  Bay Lane, Chicago, IL',351963569,'Fatma.k@littlelemon.com','$45,000'),\n",
    "(05,'Elena Salvai','Head Waiter','989 Thyme Square, EdgeWater, Chicago, IL',351074198,'Elena.s@littlelemon.com','$40,000'),\n",
    "(06,'John Millar','Receptionist','245 Dill Square, Lincoln Park, Chicago, IL',351584508,'John.m@littlelemon.com','$35,000');\"\"\"\n"
   ]
  },
  {
   "cell_type": "code",
   "execution_count": 24,
   "id": "60287e87",
   "metadata": {},
   "outputs": [],
   "source": [
    "# Populate MenuItems table\n",
    "cursor.execute(insert_menuitems)\n",
    "connection.commit()\n",
    "\n",
    "# Populate MenuItems table\n",
    "cursor.execute(insert_menu)\n",
    "connection.commit()\n",
    "\n",
    "# Populate Bookings table\n",
    "cursor.execute(insert_bookings)\n",
    "connection.commit()\n",
    "\n",
    "# Populate Orders table\n",
    "cursor.execute(insert_orders)\n",
    "connection.commit()\n",
    "\n",
    "# Populate Employees table\n",
    "cursor.execute(insert_employees)\n",
    "connection.commit()"
   ]
  },
  {
   "cell_type": "code",
   "execution_count": null,
   "id": "5b73abce",
   "metadata": {},
   "outputs": [],
   "source": []
  },
  {
   "cell_type": "code",
   "execution_count": 45,
   "id": "3c81c010",
   "metadata": {},
   "outputs": [],
   "source": [
    "from mysql.connector.pooling import MySQLConnectionPool\n",
    "from mysql.connector import Error\n",
    "\n",
    "dbconfig = {\n",
    "    \"user\": \"root\",\n",
    "    \"password\": \"excellent123\",\n",
    "    \"database\": \"little_lemon_db\"\n",
    "}    "
   ]
  },
  {
   "cell_type": "code",
   "execution_count": 46,
   "id": "7663ae6e",
   "metadata": {},
   "outputs": [
    {
     "name": "stdout",
     "output_type": "stream",
     "text": [
      "The connection pool is created with a name:  pool_a\n",
      "The pool size is: 2\n"
     ]
    }
   ],
   "source": [
    "try:\n",
    "    pool_a = MySQLConnectionPool(pool_name=\"pool_a\", pool_size=2, **dbconfig)\n",
    "    print(\"The connection pool is created with a name: \",pool_a.pool_name)\n",
    "    print(\"The pool size is:\",pool_a.pool_size)\n",
    "    \n",
    "except Error as er:\n",
    "    print(\"Error code:\", er.errno)\n",
    "    print(\"Error message:\", er.msg)"
   ]
  },
  {
   "cell_type": "code",
   "execution_count": 47,
   "id": "9a814191",
   "metadata": {},
   "outputs": [],
   "source": [
    "from mysql.connector import connect\n",
    "connection = connect(**dbconfig)\n",
    "cursor = connection.cursor()"
   ]
  },
  {
   "cell_type": "code",
   "execution_count": 90,
   "id": "20e130d7",
   "metadata": {},
   "outputs": [],
   "source": [
    "create_peakhours_procedure = \"\"\"\n",
    "CREATE PROCEDURE IF NOT EXISTS PeakHours()\n",
    "BEGIN\n",
    "    SELECT HOUR(BookingSlot) AS Hour, COUNT(*) AS NumBookings\n",
    "    FROM Bookings\n",
    "    GROUP BY Hour\n",
    "    ORDER BY NumBookings DESC;\n",
    "END;\n",
    "\"\"\""
   ]
  },
  {
   "cell_type": "code",
   "execution_count": 91,
   "id": "707ea2b1",
   "metadata": {},
   "outputs": [],
   "source": [
    "cursor.execute(create_peakhours_procedure)\n",
    "connection.commit()"
   ]
  },
  {
   "cell_type": "code",
   "execution_count": 92,
   "id": "0acf4450",
   "metadata": {},
   "outputs": [
    {
     "data": {
      "text/plain": [
       "()"
      ]
     },
     "execution_count": 92,
     "metadata": {},
     "output_type": "execute_result"
    }
   ],
   "source": [
    "cursor.callproc(\"PeakHours\")"
   ]
  },
  {
   "cell_type": "code",
   "execution_count": 93,
   "id": "68028b42",
   "metadata": {},
   "outputs": [],
   "source": [
    "for result in cursor.stored_results():\n",
    "    dataset = result.fetchall()"
   ]
  },
  {
   "cell_type": "code",
   "execution_count": 94,
   "id": "fb3464d8",
   "metadata": {},
   "outputs": [
    {
     "data": {
      "text/plain": [
       "[(19, 2), (15, 1), (17, 1), (18, 1), (20, 1)]"
      ]
     },
     "execution_count": 94,
     "metadata": {},
     "output_type": "execute_result"
    }
   ],
   "source": [
    "dataset"
   ]
  },
  {
   "cell_type": "code",
   "execution_count": 96,
   "id": "6b29d2d6",
   "metadata": {},
   "outputs": [],
   "source": [
    "column_names = [column[0] for column in result.description]"
   ]
  },
  {
   "cell_type": "code",
   "execution_count": 97,
   "id": "5585f972",
   "metadata": {},
   "outputs": [
    {
     "name": "stdout",
     "output_type": "stream",
     "text": [
      "Column names:\n",
      "Hour\n",
      "NumBookings\n"
     ]
    }
   ],
   "source": [
    "print(\"Column names:\")\n",
    "for name in column_names:\n",
    "    print(name)"
   ]
  },
  {
   "cell_type": "code",
   "execution_count": 98,
   "id": "fd85d724",
   "metadata": {},
   "outputs": [
    {
     "name": "stdout",
     "output_type": "stream",
     "text": [
      "Sorted data:\n",
      "(19, 2)\n",
      "(15, 1)\n",
      "(17, 1)\n",
      "(18, 1)\n",
      "(20, 1)\n"
     ]
    }
   ],
   "source": [
    "print(\"Sorted data:\")\n",
    "for row in dataset:\n",
    "    print(row)"
   ]
  },
  {
   "cell_type": "code",
   "execution_count": null,
   "id": "017dd741",
   "metadata": {},
   "outputs": [],
   "source": []
  },
  {
   "cell_type": "code",
   "execution_count": 114,
   "id": "65734722",
   "metadata": {},
   "outputs": [],
   "source": [
    "create_guest_status_procedure = \"\"\"\n",
    "CREATE PROCEDURE GuestStatus()\n",
    "BEGIN\n",
    "SELECT CONCAT(Bookings.GuestFirstName, ' ', Bookings.GuestLastName) AS GuestName,\n",
    "CASE\n",
    "WHEN Employees.Role IN ('Manager', 'Assistant Manager') THEN 'Ready to pay'\n",
    "WHEN Employees.Role = 'Head Chef' THEN 'Ready to serve'\n",
    "WHEN Employees.Role = 'Assistant Chef' THEN 'Preparing Order'\n",
    "WHEN Employees.Role = 'Head Waiter' THEN 'Order served'\n",
    "END AS OrderStatus\n",
    "FROM Bookings\n",
    "LEFT JOIN Employees ON Employees.EmployeeID = Bookings.EmployeeID;\n",
    "END\n",
    "\"\"\""
   ]
  },
  {
   "cell_type": "code",
   "execution_count": 115,
   "id": "7115c65c",
   "metadata": {},
   "outputs": [],
   "source": [
    "cursor.execute(\"\"\"DROP PROCEDURE IF EXISTS GuestStatus\"\"\")"
   ]
  },
  {
   "cell_type": "code",
   "execution_count": 116,
   "id": "01bc693c",
   "metadata": {},
   "outputs": [],
   "source": [
    "cursor.execute(create_guest_status_procedure)\n",
    "connection.commit()"
   ]
  },
  {
   "cell_type": "code",
   "execution_count": 117,
   "id": "62a31d33",
   "metadata": {},
   "outputs": [
    {
     "data": {
      "text/plain": [
       "()"
      ]
     },
     "execution_count": 117,
     "metadata": {},
     "output_type": "execute_result"
    }
   ],
   "source": [
    "cursor.callproc(\"GuestStatus\")"
   ]
  },
  {
   "cell_type": "code",
   "execution_count": 118,
   "id": "dd4d95ed",
   "metadata": {},
   "outputs": [],
   "source": [
    "for result in cursor.stored_results():\n",
    "    dataset = result.fetchall()"
   ]
  },
  {
   "cell_type": "code",
   "execution_count": 119,
   "id": "ae8ea5e6",
   "metadata": {},
   "outputs": [],
   "source": [
    "column_names = [column[0] for column in result.description]"
   ]
  },
  {
   "cell_type": "code",
   "execution_count": 120,
   "id": "d113c44c",
   "metadata": {},
   "outputs": [
    {
     "name": "stdout",
     "output_type": "stream",
     "text": [
      "Column names:\n",
      "GuestName\n",
      "OrderStatus\n"
     ]
    }
   ],
   "source": [
    "print(\"Column names:\")\n",
    "for name in column_names:\n",
    "    print(name)"
   ]
  },
  {
   "cell_type": "code",
   "execution_count": 121,
   "id": "6f249028",
   "metadata": {},
   "outputs": [
    {
     "name": "stdout",
     "output_type": "stream",
     "text": [
      "Sorted data:\n",
      "('Anna Iversen', 'Ready to pay')\n",
      "('Joakim Iversen', 'Ready to pay')\n",
      "('Vanessa McCarthy', 'Ready to serve')\n",
      "('Marcos Romero', 'Preparing Order')\n",
      "('Hiroki Yamane', 'Ready to pay')\n",
      "('Diana Pinto', 'Order served')\n"
     ]
    }
   ],
   "source": [
    "print(\"Sorted data:\")\n",
    "for row in dataset:\n",
    "    print(row)"
   ]
  },
  {
   "cell_type": "code",
   "execution_count": 122,
   "id": "f723abb7",
   "metadata": {},
   "outputs": [],
   "source": [
    "cursor.close()\n",
    "connection.close()"
   ]
  },
  {
   "cell_type": "code",
   "execution_count": null,
   "id": "226a4896",
   "metadata": {},
   "outputs": [],
   "source": []
  },
  {
   "cell_type": "code",
   "execution_count": 129,
   "id": "6f8c65d9",
   "metadata": {},
   "outputs": [
    {
     "name": "stdout",
     "output_type": "stream",
     "text": [
      "The connection pool is created with a name: pool_b\n",
      "The pool size is: 2\n"
     ]
    }
   ],
   "source": [
    "try:\n",
    "    pool_b = MySQLConnectionPool(pool_name=\"pool_b\", pool_size=2, **dbconfig)\n",
    "    print(\"The connection pool is created with a name:\", pool_b.pool_name)\n",
    "    print(\"The pool size is:\", pool_b.pool_size)\n",
    "\n",
    "except Error as err:\n",
    "    print(\"Error code:\", err.errno)\n",
    "    print(\"Error message:\", err.msg)\n"
   ]
  },
  {
   "cell_type": "code",
   "execution_count": 160,
   "id": "d1581566",
   "metadata": {},
   "outputs": [
    {
     "name": "stdout",
     "output_type": "stream",
     "text": [
      "Q1 END\n",
      "Q2 END\n",
      "Error code: -1\n",
      "Error message: Failed getting connection; pool exhausted\n"
     ]
    }
   ],
   "source": [
    "from mysql.connector import Error\n",
    "\n",
    "try:\n",
    "    connection1 = pool_b.get_connection()\n",
    "    query1 = \"\"\"\n",
    "    INSERT INTO Bookings (TableNo, GuestFirstName, GuestLastName, BookingSlot, EmployeeID) \n",
    "    VALUES (8, 'Anees', 'Java', '18:00', 6);\n",
    "    \"\"\"    \n",
    "    cursor1 = connection1.cursor()\n",
    "    cursor1.execute(query1)\n",
    "    connection1.commit()\n",
    "    cursor1.close()\n",
    "    print(\"Q1 END\")\n",
    "\n",
    "    connection2 = pool_b.get_connection()\n",
    "    query2 = \"\"\"\n",
    "    INSERT INTO Bookings (TableNo, GuestFirstName, GuestLastName, BookingSlot, EmployeeID) \n",
    "    VALUES (5, 'Bald', 'Vin', '19:00', 6);\n",
    "    \"\"\"\n",
    "    cursor2 = connection2.cursor()\n",
    "    cursor2.execute(query2)\n",
    "    connection2.commit()\n",
    "    cursor2.close()\n",
    "    print(\"Q2 END\")\n",
    "    \n",
    "    connection3 = pool_b.get_connection()\n",
    "    query3 = \"\"\"\n",
    "    INSERT INTO Bookings (TableNo, GuestFirstName, GuestLastName, BookingSlot, EmployeeID) \n",
    "    VALUES (12, 'Jay', 'Kon', '19:30', 6);\n",
    "    \"\"\"\n",
    "    cursor3 = connection3.cursor()\n",
    "    cursor3.execute(query3)\n",
    "    connection3.commit()\n",
    "    cursor3.close()\n",
    "\n",
    "    connection1.close()\n",
    "    connection2.close()\n",
    "    connection3.close()\n",
    "    print(\"ALL END\")\n",
    "\n",
    "except Error as err:\n",
    "    print(\"Error code:\", err.errno)\n",
    "    print(\"Error message:\", err.msg)\n"
   ]
  },
  {
   "cell_type": "code",
   "execution_count": 177,
   "id": "78629050",
   "metadata": {},
   "outputs": [],
   "source": [
    "# connection1.close()\n",
    "# connection2.close()\n",
    "# connection3.close()\n",
    "# print(\"CLOSE ALL\")"
   ]
  },
  {
   "cell_type": "code",
   "execution_count": 157,
   "id": "86d5215f",
   "metadata": {},
   "outputs": [
    {
     "name": "stdout",
     "output_type": "stream",
     "text": [
      "Q1 END\n",
      "Q2 END\n",
      "ALL END\n"
     ]
    }
   ],
   "source": [
    "from mysql.connector import Error\n",
    "\n",
    "try:\n",
    "    connection1 = pool_b.get_connection()\n",
    "    query1 = \"\"\"\n",
    "    INSERT INTO Bookings (TableNo, GuestFirstName, GuestLastName, BookingSlot, EmployeeID) \n",
    "    VALUES (8, 'Anees', 'Java', '18:00', 6);\n",
    "    \"\"\"    \n",
    "    cursor1 = connection1.cursor()\n",
    "    cursor1.execute(query1)\n",
    "    connection1.commit()\n",
    "    cursor1.close()\n",
    "    print(\"Q1 END\")\n",
    "\n",
    "    connection2 = pool_b.get_connection()\n",
    "    query2 = \"\"\"\n",
    "    INSERT INTO Bookings (TableNo, GuestFirstName, GuestLastName, BookingSlot, EmployeeID) \n",
    "    VALUES (5, 'Bald', 'Vin', '19:00', 6);\n",
    "    \"\"\"\n",
    "    cursor2 = connection2.cursor()\n",
    "    cursor2.execute(query2)\n",
    "    connection2.commit()\n",
    "    cursor2.close()\n",
    "    print(\"Q2 END\")\n",
    "\n",
    "    connection1.close()\n",
    "    connection2.close()\n",
    "    print(\"ALL END\")\n",
    "\n",
    "except Error as err:\n",
    "    print(\"Error code:\", err.errno)\n",
    "    print(\"Error message:\", err.msg)\n"
   ]
  },
  {
   "cell_type": "code",
   "execution_count": 202,
   "id": "8ba267b0",
   "metadata": {},
   "outputs": [],
   "source": [
    "connection = pool_b.get_connection()\n",
    "cursor = connection.cursor()"
   ]
  },
  {
   "cell_type": "code",
   "execution_count": 203,
   "id": "e0e8ac52",
   "metadata": {},
   "outputs": [],
   "source": [
    "query1 = \"\"\"SELECT Name, EmployeeID FROM Employees WHERE Role = 'Manager' LIMIT 1\"\"\"\n",
    "cursor.execute(query1)\n",
    "manager = cursor.fetchone()\n"
   ]
  },
  {
   "cell_type": "code",
   "execution_count": 204,
   "id": "2ef0fcf7",
   "metadata": {},
   "outputs": [
    {
     "data": {
      "text/plain": [
       "('Mario Gollini', 1)"
      ]
     },
     "execution_count": 204,
     "metadata": {},
     "output_type": "execute_result"
    }
   ],
   "source": [
    "manager"
   ]
  },
  {
   "cell_type": "code",
   "execution_count": 205,
   "id": "1e81f91f",
   "metadata": {},
   "outputs": [],
   "source": [
    "query2 = \"SELECT Name, Role FROM Employees WHERE Annual_Salary = (SELECT MAX(Annual_Salary) FROM Employees) LIMIT 1\"\n",
    "cursor.execute(query2)\n",
    "highest_salary_employee = cursor.fetchone()\n"
   ]
  },
  {
   "cell_type": "code",
   "execution_count": 206,
   "id": "b89e3453",
   "metadata": {},
   "outputs": [],
   "source": [
    "query3 = \"SELECT COUNT(*) FROM Bookings WHERE BookingSlot BETWEEN '18:00' AND '20:00'\"\n",
    "cursor.execute(query3)\n",
    "guests_booked_count = cursor.fetchone()[0]\n"
   ]
  },
  {
   "cell_type": "code",
   "execution_count": 208,
   "id": "a7364f71",
   "metadata": {},
   "outputs": [],
   "source": [
    "query4 = \"SELECT CONCAT(GuestFirstName, ' ', GuestLastName) AS Fullname, BookingID FROM Bookings ORDER BY BookingSlot\"\n",
    "cursor.execute(query4)\n",
    "waiting_guests = cursor.fetchall()\n"
   ]
  },
  {
   "cell_type": "code",
   "execution_count": 209,
   "id": "2c7564f3",
   "metadata": {},
   "outputs": [
    {
     "name": "stdout",
     "output_type": "stream",
     "text": [
      "Little Lemon Manager:\n",
      "Name: Mario Gollini\n",
      "EmployeeID: 1\n",
      "\n",
      "Employee with the highest salary:\n",
      "Name: Mario Gollini\n",
      "Role: Manager\n",
      "\n",
      "Number of guests booked between 18:00 and 20:00: 16\n",
      "\n",
      "Guests waiting to be seated:\n",
      "Fullname: Vanessa McCarthy\n",
      "BookingID: 3\n",
      "\n",
      "Fullname: Marcos Romero\n",
      "BookingID: 4\n",
      "\n",
      "Fullname: Anees Java\n",
      "BookingID: 7\n",
      "\n",
      "Fullname: Anees Java\n",
      "BookingID: 9\n",
      "\n",
      "Fullname: Anees Java\n",
      "BookingID: 11\n",
      "\n",
      "Fullname: Anees Java\n",
      "BookingID: 12\n",
      "\n",
      "Fullname: Anees Java\n",
      "BookingID: 13\n",
      "\n",
      "Fullname: Anees Java\n",
      "BookingID: 15\n",
      "\n",
      "Fullname: Anees Java\n",
      "BookingID: 17\n",
      "\n",
      "Fullname: Hiroki Yamane\n",
      "BookingID: 5\n",
      "\n",
      "Fullname: Anna Iversen\n",
      "BookingID: 1\n",
      "\n",
      "Fullname: Joakim Iversen\n",
      "BookingID: 2\n",
      "\n",
      "Fullname: Bald Vin\n",
      "BookingID: 8\n",
      "\n",
      "Fullname: Bald Vin\n",
      "BookingID: 10\n",
      "\n",
      "Fullname: Bald Vin\n",
      "BookingID: 14\n",
      "\n",
      "Fullname: Bald Vin\n",
      "BookingID: 16\n",
      "\n",
      "Fullname: Bald Vin\n",
      "BookingID: 18\n",
      "\n",
      "Fullname: Diana Pinto\n",
      "BookingID: 6\n",
      "\n"
     ]
    }
   ],
   "source": [
    "print(\"Little Lemon Manager:\")\n",
    "print(\"Name:\", manager[0])\n",
    "print(\"EmployeeID:\", manager[1])\n",
    "\n",
    "print(\"\\nEmployee with the highest salary:\")\n",
    "print(\"Name:\", highest_salary_employee[0])\n",
    "print(\"Role:\", highest_salary_employee[1])\n",
    "\n",
    "print(\"\\nNumber of guests booked between 18:00 and 20:00:\", guests_booked_count)\n",
    "\n",
    "print(\"\\nGuests waiting to be seated:\")\n",
    "for guest in waiting_guests:\n",
    "    print(\"Fullname:\", guest[0])\n",
    "    print(\"BookingID:\", guest[1])\n",
    "    print()\n"
   ]
  },
  {
   "cell_type": "code",
   "execution_count": null,
   "id": "9a7dc8d4",
   "metadata": {},
   "outputs": [],
   "source": []
  },
  {
   "cell_type": "code",
   "execution_count": 223,
   "id": "ab5a86dd",
   "metadata": {},
   "outputs": [],
   "source": [
    "create_BasicSalesReport = \"\"\"\n",
    "CREATE PROCEDURE BasicSalesReport()\n",
    "BEGIN\n",
    "SELECT \n",
    "SUM(BillAmount) AS `Total Sales`,\n",
    "AVG(BillAmount) AS `Average Sale`,\n",
    "MIN(BillAmount) AS `Minimum Bill Paid`,\n",
    "MAX(BillAmount) AS `Maximum Bill Paid`\n",
    "FROM \n",
    "Orders;\n",
    "END\n",
    "\"\"\""
   ]
  },
  {
   "cell_type": "code",
   "execution_count": 222,
   "id": "8bad6a0b",
   "metadata": {},
   "outputs": [],
   "source": [
    "# cursor.execute(\"\"\"Drop Procedure BasicSalesReport\"\"\")"
   ]
  },
  {
   "cell_type": "code",
   "execution_count": 224,
   "id": "19f5246c",
   "metadata": {},
   "outputs": [],
   "source": [
    "cursor.execute(create_BasicSalesReport)\n",
    "connection.commit()"
   ]
  },
  {
   "cell_type": "code",
   "execution_count": 225,
   "id": "a24f0fd5",
   "metadata": {},
   "outputs": [
    {
     "data": {
      "text/plain": [
       "()"
      ]
     },
     "execution_count": 225,
     "metadata": {},
     "output_type": "execute_result"
    }
   ],
   "source": [
    "cursor.callproc(\"BasicSalesReport\")"
   ]
  },
  {
   "cell_type": "code",
   "execution_count": 230,
   "id": "0a1efd4a",
   "metadata": {},
   "outputs": [],
   "source": [
    "for result in cursor.stored_results():\n",
    "    dataset = result.fetchall()"
   ]
  },
  {
   "cell_type": "code",
   "execution_count": 231,
   "id": "a7de2fcd",
   "metadata": {},
   "outputs": [
    {
     "data": {
      "text/plain": [
       "[(Decimal('243'), Decimal('48.6000'), 37, 86)]"
      ]
     },
     "execution_count": 231,
     "metadata": {},
     "output_type": "execute_result"
    }
   ],
   "source": [
    "dataset"
   ]
  },
  {
   "cell_type": "code",
   "execution_count": 234,
   "id": "4a14c75d",
   "metadata": {},
   "outputs": [
    {
     "name": "stdout",
     "output_type": "stream",
     "text": [
      "Total Sales: 243\n",
      "Average Sale: 48.6000\n",
      "Minimum Bill Paid: 37\n",
      "Maximum Bill Paid: 86\n"
     ]
    }
   ],
   "source": [
    "print(\"Total Sales:\", dataset[0][0])\n",
    "print(\"Average Sale:\", dataset[0][1])\n",
    "print(\"Minimum Bill Paid:\", dataset[0][2])\n",
    "print(\"Maximum Bill Paid:\", dataset[0][3])"
   ]
  },
  {
   "cell_type": "code",
   "execution_count": 235,
   "id": "d4e0821e",
   "metadata": {},
   "outputs": [],
   "source": [
    "if connection.is_connected():\n",
    "        cursor.close()\n",
    "        connection.close()"
   ]
  },
  {
   "cell_type": "code",
   "execution_count": 239,
   "id": "8e9efc5b",
   "metadata": {},
   "outputs": [
    {
     "name": "stdout",
     "output_type": "stream",
     "text": [
      "The connection pool is created with a name:  pool_b\n",
      "The pool size is: 2\n",
      "BookingSlot: 15:00:00\n",
      "\tGuest_name: Vanessa McCarthy\n",
      "\tAssigned to: Giorgos Dioudis [Head Chef] \n",
      "\n",
      "BookingSlot: 17:30:00\n",
      "\tGuest_name: Marcos Romero\n",
      "\tAssigned to: Fatma Kaya [Assistant Chef] \n",
      "\n",
      "BookingSlot: 18:00:00\n",
      "\tGuest_name: Anees Java\n",
      "\tAssigned to: John Millar [Receptionist] \n",
      "\n"
     ]
    }
   ],
   "source": [
    "try:\n",
    "    pool_b = MySQLConnectionPool(pool_name=\"pool_b\", pool_size=2, **dbconfig)\n",
    "    print(\"The connection pool is created with a name: \",pool_b.pool_name)\n",
    "    print(\"The pool size is:\",pool_b.pool_size)\n",
    "    connection = pool_b.get_connection()\n",
    "    cursor = connection.cursor(buffered=True)\n",
    "\n",
    "    query = \"\"\"\n",
    "    SELECT b.BookingSlot, CONCAT(b.GuestFirstName, ' ', b.GuestLastName) AS GuestName, CONCAT(e.Name, ' [', e.Role, ']') AS AssignedTo\n",
    "    FROM Bookings b\n",
    "    INNER JOIN Employees e ON b.EmployeeID = e.EmployeeID\n",
    "    ORDER BY b.BookingSlot ASC\n",
    "    LIMIT 3\n",
    "    \"\"\"\n",
    "    cursor.execute(query)\n",
    "\n",
    "    results = cursor.fetchall()\n",
    "\n",
    "    for row in results:\n",
    "        booking_slot = row[0]\n",
    "        guest_name = row[1]\n",
    "        assigned_to = row[2]\n",
    "\n",
    "        print(\"BookingSlot:\", booking_slot)\n",
    "        print(\"\\tGuest_name:\", guest_name)\n",
    "        print(\"\\tAssigned to:\", assigned_to, \"\\n\")\n",
    "        \n",
    "\n",
    "except mysql.connector.Error as error:\n",
    "    print(\"Error code:\", er.errno)\n",
    "    print(\"Error message:\", er.msg)\n",
    "\n",
    "\n",
    "finally:\n",
    "    if connection.is_connected():\n",
    "        cursor.close()\n",
    "        connection.close()\n",
    "\n"
   ]
  },
  {
   "cell_type": "code",
   "execution_count": null,
   "id": "e3573a9b",
   "metadata": {},
   "outputs": [],
   "source": []
  },
  {
   "cell_type": "code",
   "execution_count": null,
   "id": "ed223d4e",
   "metadata": {},
   "outputs": [],
   "source": []
  },
  {
   "cell_type": "code",
   "execution_count": null,
   "id": "942cd967",
   "metadata": {},
   "outputs": [],
   "source": []
  }
 ],
 "metadata": {
  "kernelspec": {
   "display_name": "Python 3 (ipykernel)",
   "language": "python",
   "name": "python3"
  },
  "language_info": {
   "codemirror_mode": {
    "name": "ipython",
    "version": 3
   },
   "file_extension": ".py",
   "mimetype": "text/x-python",
   "name": "python",
   "nbconvert_exporter": "python",
   "pygments_lexer": "ipython3",
   "version": "3.8.15"
  }
 },
 "nbformat": 4,
 "nbformat_minor": 5
}
